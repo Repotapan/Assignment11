{
 "cells": [
  {
   "cell_type": "raw",
   "id": "8d4c288b-387a-45dd-a231-38fd5660b6a8",
   "metadata": {},
   "source": [
    "1)"
   ]
  },
  {
   "cell_type": "markdown",
   "id": "85b1b304-f452-43b9-86b3-24c8c633f1c8",
   "metadata": {},
   "source": [
    "In Python, the built-in open() function is used to open a file. This function accepts two arguments: the name of the file, and the mode in which the file is opened.\n",
    "The following are the different modes in which a file can be opened in Python:\n",
    "a) 'r' (Read Only): This is the default mode and is used to open a file for reading only. The file pointer is placed at the beginning of the file. If the file does not exist, an error is raised.\n",
    "b)'w' (Write Only): This mode is used to open a file for writing only. If the file already exists, its contents are truncated and the file pointer is placed at the beginning of the file. If the file does not exist, a new file is created.\n",
    "c)'a' (append mode): In this mode, the file is opened in append mode, which means you can write to the file, but the write will always be at the end of the file. If the file does not exist, a new file is created.\n",
    "d)'x' (exclusive creation mode): In this mode, the file is opened in exclusive creation mode, which means that the file will only be created if it does not already exist. If the file already exists, an error is raised.\n",
    "e)b' (binary mode): In this mode, the file is opened in binary mode, which means that the contents of the file are read and written as binary data. This mode is used for working with binary files such as images, audio and video files.\n",
    "f)'t' (text mode): In this mode, the file is opened in text mode, which means that the contents of the file are read and written as text data. This mode is the default mode for text files.\n",
    "\n"
   ]
  },
  {
   "cell_type": "raw",
   "id": "00577484-e27f-412f-8abe-e3fab18b2bb3",
   "metadata": {},
   "source": [
    "2)"
   ]
  },
  {
   "cell_type": "markdown",
   "id": "0f84f8d0-88f7-4c76-9090-6a4a7b87b31b",
   "metadata": {},
   "source": [
    "The close function is used to close a file in Python. When a file is opened using the open function, it remains open until it is explicitly closed using the close function or until the end of the program.\n",
    "It is important to close a file for several reasons:\n",
    "a)Releasing resources: When a file is open, it is consuming system resources, such as memory and file handles. By closing the file, you release these resources, making them available for other processes.\n",
    "b)Flushing buffers: When you write to a file, the data is usually stored in a buffer before it is written to disk. By closing the file, you flush the buffers, ensuring that all data has been written to disk and is not lost in the event of a crash or power failure.\n",
    "c)Ensuring data consistency: When multiple programs or processes access the same file, it is important to ensure that the file is closed properly to avoid data corruption or inconsistencies.\n",
    "d)Good programming practice: Closing files is a good programming practice, as it makes your code more robust, reliable, and easier to maintain.\n",
    "\n"
   ]
  },
  {
   "cell_type": "raw",
   "id": "e21e42c2-a5ae-4c5c-aa58-396cc131eeff",
   "metadata": {},
   "source": [
    "3)"
   ]
  },
  {
   "cell_type": "code",
   "execution_count": 2,
   "id": "f54e2461-fe44-4eb8-b60b-825fa303d39d",
   "metadata": {},
   "outputs": [],
   "source": [
    "f=open(\"text8.txt\",\"w\")\n",
    "f.write(\"I want to become a Data Scientist\")\n",
    "f.close()"
   ]
  },
  {
   "cell_type": "code",
   "execution_count": 3,
   "id": "80b42950-fdc5-4143-a7cc-fa509647f990",
   "metadata": {},
   "outputs": [
    {
     "data": {
      "text/plain": [
       "'I want to become a Data Scientist'"
      ]
     },
     "execution_count": 3,
     "metadata": {},
     "output_type": "execute_result"
    }
   ],
   "source": [
    "f=open(\"text8.txt\",\"r\")\n",
    "f.read()"
   ]
  },
  {
   "cell_type": "raw",
   "id": "c5569a11-abdc-4ee4-94c3-c8967ebf4d6b",
   "metadata": {},
   "source": [
    "4)"
   ]
  },
  {
   "cell_type": "markdown",
   "id": "309e13d6-77ee-4588-93f8-aea058047678",
   "metadata": {},
   "source": [
    "The read, readline, and readlines methods are used to read the contents of a file in Python.\n",
    "a)read: The read method reads the entire contents of a file and returns them as a single string.\n",
    "b)readline: The readline method reads a single line from the file and returns it as a string.\n",
    "c)readlines: The readlines method reads the entire contents of a file and returns them as a list of strings, where each string represents a line in the file."
   ]
  },
  {
   "cell_type": "raw",
   "id": "447ef878-21a6-466d-9494-1a7ed8b68150",
   "metadata": {},
   "source": [
    "5)"
   ]
  },
  {
   "cell_type": "markdown",
   "id": "d1fb774c-1557-4956-9483-535f39b6543e",
   "metadata": {},
   "source": [
    "The with statement is used in conjunction with the open function to ensure that a file is properly closed, even if an error occurs. The with statement provides a way to wrap the code that accesses a file in a try-except block, which makes it easy to handle exceptions that might occur while reading or writing to the file.\n",
    "The advantage of using the with statement with the open function is that it guarantees that the file will be closed, even if an error occurs. This is because the with statement automatically closes the file when the code inside the block is finished, or if an exception is raised. This helps to prevent resource leaks and data corruption, and makes your code more reliable and easier to maintain."
   ]
  },
  {
   "cell_type": "raw",
   "id": "dc4c2e95-c257-4b42-8aa1-c36c1d67bd31",
   "metadata": {},
   "source": [
    "6)"
   ]
  },
  {
   "cell_type": "markdown",
   "id": "7a936ae7-d331-4155-b00f-68301ccd041b",
   "metadata": {},
   "source": [
    "The write and writelines functions are used to write to a file in Python.\n",
    "a)write: The write function writes a string to a file. The syntax for using the write function is as follows:"
   ]
  },
  {
   "cell_type": "code",
   "execution_count": 4,
   "id": "f034ac64-cd2b-4310-8af9-46199f142ff6",
   "metadata": {},
   "outputs": [],
   "source": [
    "with open('file.txt', 'w') as f:\n",
    "    f.write('Hello, World!')\n"
   ]
  },
  {
   "cell_type": "markdown",
   "id": "70892ba4-fa2e-4356-87cc-a786b5a7d047",
   "metadata": {},
   "source": [
    "In this example, the write function writes the string 'Hello, World!' to the file file.txt. The 'w' mode is used, which means that the file will be opened for writing, and if the file already exists, its contents will be overwritten."
   ]
  },
  {
   "cell_type": "markdown",
   "id": "4c667642-b5b6-46bb-acdd-892c5a94d135",
   "metadata": {},
   "source": [
    "b)writelines: The writelines function writes a list of strings to a file. The syntax for using the writelines function is as follows:"
   ]
  },
  {
   "cell_type": "code",
   "execution_count": 5,
   "id": "c2f4c35d-5081-4052-9cc5-4a7488b25f9d",
   "metadata": {},
   "outputs": [],
   "source": [
    "lines = ['Hello, World!', 'How are you?']\n",
    "with open('file.txt', 'w') as f:\n",
    "    f.writelines(lines)\n"
   ]
  },
  {
   "cell_type": "markdown",
   "id": "20cf66ca-2f86-4777-a766-ce0bfb5776a6",
   "metadata": {},
   "source": [
    "In this example, the writelines function writes the list of strings lines to the file file.txt. The 'w' mode is used, which means that the file will be opened for writing, and if the file already exists, its contents will be overwritten."
   ]
  }
 ],
 "metadata": {
  "kernelspec": {
   "display_name": "Python 3 (ipykernel)",
   "language": "python",
   "name": "python3"
  },
  "language_info": {
   "codemirror_mode": {
    "name": "ipython",
    "version": 3
   },
   "file_extension": ".py",
   "mimetype": "text/x-python",
   "name": "python",
   "nbconvert_exporter": "python",
   "pygments_lexer": "ipython3",
   "version": "3.10.8"
  }
 },
 "nbformat": 4,
 "nbformat_minor": 5
}
